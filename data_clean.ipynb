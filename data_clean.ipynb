{
 "cells": [
  {
   "cell_type": "code",
   "execution_count": 1,
   "metadata": {},
   "outputs": [
    {
     "name": "stderr",
     "output_type": "stream",
     "text": [
      "[nltk_data] Downloading package stopwords to\n",
      "[nltk_data]     C:\\Users\\tjhgi\\AppData\\Roaming\\nltk_data...\n",
      "[nltk_data]   Package stopwords is already up-to-date!\n"
     ]
    }
   ],
   "source": [
    "import pandas as pd\n",
    "from num2words import num2words\n",
    "import string\n",
    "import nltk\n",
    "nltk.download('stopwords')\n",
    "from nltk.corpus import stopwords\n"
   ]
  },
  {
   "cell_type": "code",
   "execution_count": 2,
   "metadata": {},
   "outputs": [
    {
     "data": {
      "text/html": [
       "<div>\n",
       "<style scoped>\n",
       "    .dataframe tbody tr th:only-of-type {\n",
       "        vertical-align: middle;\n",
       "    }\n",
       "\n",
       "    .dataframe tbody tr th {\n",
       "        vertical-align: top;\n",
       "    }\n",
       "\n",
       "    .dataframe thead th {\n",
       "        text-align: right;\n",
       "    }\n",
       "</style>\n",
       "<table border=\"1\" class=\"dataframe\">\n",
       "  <thead>\n",
       "    <tr style=\"text-align: right;\">\n",
       "      <th></th>\n",
       "      <th>id</th>\n",
       "      <th>addedDate</th>\n",
       "      <th>name</th>\n",
       "      <th>author</th>\n",
       "      <th>difficulty</th>\n",
       "      <th>length</th>\n",
       "      <th>shortDescription</th>\n",
       "      <th>longDescription</th>\n",
       "      <th>imageURL</th>\n",
       "      <th>minecraftVersion</th>\n",
       "      <th>downloadCount</th>\n",
       "      <th>series</th>\n",
       "      <th>objectives</th>\n",
       "      <th>bonusObjectives</th>\n",
       "      <th>mapType</th>\n",
       "      <th>downloadLink</th>\n",
       "      <th>published</th>\n",
       "      <th>hasDownload</th>\n",
       "    </tr>\n",
       "  </thead>\n",
       "  <tbody>\n",
       "    <tr>\n",
       "      <th>0</th>\n",
       "      <td>2</td>\n",
       "      <td>20190117</td>\n",
       "      <td>Totality</td>\n",
       "      <td>Cold Fusion</td>\n",
       "      <td>Easy</td>\n",
       "      <td>Short</td>\n",
       "      <td>New to CTMs? Start here! Explore a futuristic ...</td>\n",
       "      <td>Crash-landed in an ancient city inhabited by v...</td>\n",
       "      <td>/map_img/1.png</td>\n",
       "      <td>1.17</td>\n",
       "      <td>9356</td>\n",
       "      <td>NaN</td>\n",
       "      <td>4</td>\n",
       "      <td>0</td>\n",
       "      <td>Adventure</td>\n",
       "      <td>https://www.curseforge.com/minecraft/worlds/to...</td>\n",
       "      <td>1</td>\n",
       "      <td>0</td>\n",
       "    </tr>\n",
       "  </tbody>\n",
       "</table>\n",
       "</div>"
      ],
      "text/plain": [
       "   id  addedDate      name       author difficulty length   \n",
       "0   2   20190117  Totality  Cold Fusion       Easy  Short  \\\n",
       "\n",
       "                                    shortDescription   \n",
       "0  New to CTMs? Start here! Explore a futuristic ...  \\\n",
       "\n",
       "                                     longDescription        imageURL   \n",
       "0  Crash-landed in an ancient city inhabited by v...  /map_img/1.png  \\\n",
       "\n",
       "  minecraftVersion  downloadCount series  objectives  bonusObjectives   \n",
       "0             1.17           9356    NaN           4                0  \\\n",
       "\n",
       "     mapType                                       downloadLink  published   \n",
       "0  Adventure  https://www.curseforge.com/minecraft/worlds/to...          1  \\\n",
       "\n",
       "   hasDownload  \n",
       "0            0  "
      ]
     },
     "execution_count": 2,
     "metadata": {},
     "output_type": "execute_result"
    }
   ],
   "source": [
    "df = pd.read_csv(r'csv/maplist.csv')\n",
    "df.head(1)"
   ]
  },
  {
   "cell_type": "code",
   "execution_count": 6,
   "metadata": {},
   "outputs": [],
   "source": [
    "def clean_text(text, stop_words=[], remove_stopwords=False):\n",
    "    # Remove punctuation\n",
    "    text = text.translate(str.maketrans(\"\", \"\", string.punctuation))\n",
    "    # Convert text to lowercase\n",
    "    text = text.lower()\n",
    "    # Replace numbers with their text form\n",
    "    text = ' '.join(word if not word.isdigit() else num2words(word) for word in text.split())\n",
    "    # Remove extra spaces\n",
    "    text = ' '.join(text.split())\n",
    "    # Remove stopwords if requested\n",
    "    if remove_stopwords:\n",
    "        words = text.split()\n",
    "        filtered_words = [word for word in words if word not in stop_words]\n",
    "        text = ' '.join(filtered_words)\n",
    "    return text\n",
    "\n",
    "minecraft_stopwords = [\"minecraft\", \"map\", \"maps\", \"world\", \"block\", \n",
    "                       \"blocks\", \"texture\", \"textures\", \"mod\", \"mods\", \n",
    "                       \"item\", \"items\", \"ctms\", \"explore\", \"new\"]\n",
    "stop_words = set(stopwords.words('english') + minecraft_stopwords)\n",
    "\n",
    "df['shortDesc_clean'] = df.apply(lambda x: clean_text(x.shortDescription), axis=1)\n",
    "df['shortDesc_clean_noStop'] = df.apply(lambda x: clean_text(x.shortDescription, stop_words, True), axis=1)\n",
    "\n",
    "df['longDesc_clean'] = df.apply(lambda x: clean_text(x.longDescription), axis=1)\n",
    "df['longDesc_clean_noStop'] = df.apply(lambda x: clean_text(x.longDescription, stop_words, True), axis=1)\n",
    "\n",
    "df.head(1)\n",
    "\n",
    "# search_df = df[['id', 'name', 'author', 'shortDesc_clean_noStop', 'longDesc_clean_noStop', 'shortDesc_clean', 'longDesc_clean', 'series']]\n",
    "df.to_csv(r'csv/search.csv', index=False)"
   ]
  }
 ],
 "metadata": {
  "kernelspec": {
   "display_name": "Python 3",
   "language": "python",
   "name": "python3"
  },
  "language_info": {
   "codemirror_mode": {
    "name": "ipython",
    "version": 3
   },
   "file_extension": ".py",
   "mimetype": "text/x-python",
   "name": "python",
   "nbconvert_exporter": "python",
   "pygments_lexer": "ipython3",
   "version": "3.11.3"
  },
  "orig_nbformat": 4
 },
 "nbformat": 4,
 "nbformat_minor": 2
}
